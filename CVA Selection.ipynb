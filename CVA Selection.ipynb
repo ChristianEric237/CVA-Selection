{
 "cells": [
  {
   "cell_type": "code",
   "execution_count": 1,
   "metadata": {},
   "outputs": [
    {
     "data": {
      "text/html": [
       "        <script type=\"text/javascript\">\n",
       "        window.PlotlyConfig = {MathJaxConfig: 'local'};\n",
       "        if (window.MathJax) {MathJax.Hub.Config({SVG: {font: \"STIX-Web\"}});}\n",
       "        if (typeof require !== 'undefined') {\n",
       "        require.undef(\"plotly\");\n",
       "        requirejs.config({\n",
       "            paths: {\n",
       "                'plotly': ['https://cdn.plot.ly/plotly-latest.min']\n",
       "            }\n",
       "        });\n",
       "        require(['plotly'], function(Plotly) {\n",
       "            window._Plotly = Plotly;\n",
       "        });\n",
       "        }\n",
       "        </script>\n",
       "        "
      ]
     },
     "metadata": {},
     "output_type": "display_data"
    },
    {
     "data": {
      "text/html": [
       "        <script type=\"text/javascript\">\n",
       "        window.PlotlyConfig = {MathJaxConfig: 'local'};\n",
       "        if (window.MathJax) {MathJax.Hub.Config({SVG: {font: \"STIX-Web\"}});}\n",
       "        if (typeof require !== 'undefined') {\n",
       "        require.undef(\"plotly\");\n",
       "        requirejs.config({\n",
       "            paths: {\n",
       "                'plotly': ['https://cdn.plot.ly/plotly-latest.min']\n",
       "            }\n",
       "        });\n",
       "        require(['plotly'], function(Plotly) {\n",
       "            window._Plotly = Plotly;\n",
       "        });\n",
       "        }\n",
       "        </script>\n",
       "        "
      ]
     },
     "metadata": {},
     "output_type": "display_data"
    }
   ],
   "source": [
    "#!pip install eikon cufflinks\n",
    "\n",
    "import eikon as ek                                                        # The Eikon Python wrapper package\n",
    "import cufflinks as cf                                                    # Cufflinks\n",
    "import configparser as cp\n",
    "cf.set_config_file(offline = True)                                        # Set the plotting mode to offline"
   ]
  },
  {
   "cell_type": "code",
   "execution_count": 2,
   "metadata": {},
   "outputs": [],
   "source": [
    "appkey = '845ed754fed84d55978ed414af0a7a69fe3ea66c'\n",
    "ek.set_app_key(appkey)                                                     # Launch Eikon API with App key"
   ]
  },
  {
   "cell_type": "code",
   "execution_count": 3,
   "metadata": {},
   "outputs": [],
   "source": [
    "# Define all useful functions\n",
    "\n",
    "import datetime as dt\n",
    "from matplotlib import pylab as plt, pylab\n",
    "import numpy as np\n",
    "import pandas as pd\n",
    "from scipy.optimize import basinhopping\n",
    "\n",
    "# Set up model's parameters\n",
    "schwartz_smith = [\n",
    "    'x0',\n",
    "    'e0',\n",
    "    'mue',\n",
    "    'kappa',\n",
    "    'lambdax',\n",
    "    'sigmax',\n",
    "    'sigmae',\n",
    "    'pxe'\n",
    "]\n",
    "\n",
    "\n",
    "# Generic function to calibrate Schwartz & Smith model\n",
    "def calibrate(Data, niter = 100):\n",
    "    \n",
    "    trade_date = Data['Trade date']\n",
    "    maturity = Data['Contract expiry']\n",
    "    forwards = Data['Close prices']\n",
    "    \n",
    "    maturities = calc_maturities(maturity, trade_date)\n",
    "    \n",
    "    # Initial parameters\n",
    "    x0 = [0.1] * len(schwartz_smith)         \n",
    "    \n",
    "    # Function to minimize\n",
    "    def objective(x0):\n",
    "        schwartzftT, SSE = calc_schwartz(maturities, forwards, x0)\n",
    "        return SSE\n",
    "    \n",
    "    # Boundary of Schwartz & Smith parameters\n",
    "    bounds = [\n",
    "        (0, 100),          # x0\n",
    "        (0, 100),          # e0        \n",
    "        (-1, 1),           # mue\n",
    "        (0.0000001, 100),  # kappa\n",
    "        (-5, 5),           # lambdax\n",
    "        (0, 5),            # sigmax\n",
    "        (0, 5),            # sigmae\n",
    "        (-1, 1)            # pxe\n",
    "    ]\n",
    " \n",
    "    minimizer_kwargs = dict(method = \"L-BFGS-B\", bounds = bounds)\n",
    "  \n",
    "    # Run the \"basin hopping\" routine\n",
    "    result = basinhopping(objective, x0, T = 0.5, stepsize = 0.1, niter = niter, minimizer_kwargs = minimizer_kwargs)\n",
    "         \n",
    "    return result\n",
    " \n",
    "\n",
    "# Compute Forward prices according to parameters \n",
    "def calc_schwartz(maturities, forwards, schwartz_params):\n",
    "    \n",
    "    x0 = schwartz_params[0]\n",
    "    e0 = schwartz_params[1]\n",
    "    mue = schwartz_params[2]\n",
    "    kappa = schwartz_params[3]    \n",
    "    lambdax = schwartz_params[4]\n",
    "    sigmax = schwartz_params[5]\n",
    "    sigmae = schwartz_params[6]\n",
    "    pxe = schwartz_params[7]\n",
    "    \n",
    "    # Calc Schw E[ln(S(T))]\n",
    "    schwartzES = np.exp(- kappa * maturities) * x0 + e0 + mue *  maturities -  lambdax / kappa * \\\n",
    "                (1 - np.exp(- kappa * maturities))\n",
    "                   \n",
    "    # Calc Schw V[ln(S(T))]\n",
    "    schwartzVS = 0.5 * ((1 - np.exp(-2 * kappa * maturities)) * (sigmax ** 2 / (2 * kappa)) + \\\n",
    "                 sigmae ** 2 * maturities + 2 * (1 - np.exp(- kappa * maturities)) * (pxe * sigmax * sigmae) / kappa)\n",
    " \n",
    "    # Calc Schw F(t,T)\n",
    "    schwartzftT = np.exp(schwartzES + schwartzVS)\n",
    "    \n",
    "    #  Sum of squares\n",
    "    SSE = (schwartzftT - forwards) ** 2\n",
    " \n",
    "    return schwartzftT, SSE.sum()\n",
    " \n",
    "\n",
    "# Compute maturity horizon in years \n",
    "def calc_maturities(maturity, trade_date):\n",
    "    convertMonthsToMaturities = (maturity - trade_date).dt.days / 365\n",
    "    return convertMonthsToMaturities"
   ]
  },
  {
   "cell_type": "code",
   "execution_count": 19,
   "metadata": {
    "scrolled": true
   },
   "outputs": [],
   "source": [
    "                                                                          # List of RIC (Reuters Instrument Code)\n",
    "RICs = ['ECEFDc1', 'CFI2c1', 'CFI2c2', 'CFI2c3', 'CFI2c4', 'CFI2c5', 'CFI2c6', 'CFI2c7', 'CFI2c8', \n",
    "        'CFI2c9', 'CFI2c10', 'CFI2c11', 'CFI2c12', 'CFI2c13', 'CFI2c14', 'CFI2c15'] \n",
    "EUA, err = ek.get_data(RICs, ['SETTLEDATE', 'EXPIR_DATE', 'CF_CLOSE'])    # Extract Refinitiv data\n",
    "                                                                          # Convert date format\n",
    "EUA['SETTLEDATE'] = pd.to_datetime(EUA['SETTLEDATE'], format = '%Y-%m-%d')\n",
    "EUA['EXPIR_DATE'] = pd.to_datetime(EUA['EXPIR_DATE'], format = '%Y-%m-%d')\n",
    "\n",
    "EUA.columns = ['Instrument', 'Trade date', 'Contract expiry', 'Close prices']"
   ]
  },
  {
   "cell_type": "code",
   "execution_count": 5,
   "metadata": {},
   "outputs": [
    {
     "data": {
      "text/html": [
       "<div>\n",
       "<style scoped>\n",
       "    .dataframe tbody tr th:only-of-type {\n",
       "        vertical-align: middle;\n",
       "    }\n",
       "\n",
       "    .dataframe tbody tr th {\n",
       "        vertical-align: top;\n",
       "    }\n",
       "\n",
       "    .dataframe thead th {\n",
       "        text-align: right;\n",
       "    }\n",
       "</style>\n",
       "<table border=\"1\" class=\"dataframe\">\n",
       "  <thead>\n",
       "    <tr style=\"text-align: right;\">\n",
       "      <th></th>\n",
       "      <th>Instrument</th>\n",
       "      <th>Trade date</th>\n",
       "      <th>Contract expiry</th>\n",
       "      <th>Close prices</th>\n",
       "    </tr>\n",
       "  </thead>\n",
       "  <tbody>\n",
       "    <tr>\n",
       "      <th>0</th>\n",
       "      <td>ECEFDc1</td>\n",
       "      <td>2022-02-18</td>\n",
       "      <td>2022-02-18</td>\n",
       "      <td>85.94</td>\n",
       "    </tr>\n",
       "    <tr>\n",
       "      <th>1</th>\n",
       "      <td>CFI2c1</td>\n",
       "      <td>2022-02-18</td>\n",
       "      <td>2022-02-28</td>\n",
       "      <td>85.96</td>\n",
       "    </tr>\n",
       "    <tr>\n",
       "      <th>2</th>\n",
       "      <td>CFI2c2</td>\n",
       "      <td>2022-02-18</td>\n",
       "      <td>2022-03-28</td>\n",
       "      <td>85.98</td>\n",
       "    </tr>\n",
       "    <tr>\n",
       "      <th>3</th>\n",
       "      <td>CFI2c3</td>\n",
       "      <td>2022-02-18</td>\n",
       "      <td>2022-04-25</td>\n",
       "      <td>86.01</td>\n",
       "    </tr>\n",
       "    <tr>\n",
       "      <th>4</th>\n",
       "      <td>CFI2c4</td>\n",
       "      <td>2022-02-18</td>\n",
       "      <td>2022-06-27</td>\n",
       "      <td>86.11</td>\n",
       "    </tr>\n",
       "    <tr>\n",
       "      <th>5</th>\n",
       "      <td>CFI2c5</td>\n",
       "      <td>2022-02-18</td>\n",
       "      <td>2022-09-26</td>\n",
       "      <td>86.27</td>\n",
       "    </tr>\n",
       "    <tr>\n",
       "      <th>6</th>\n",
       "      <td>CFI2c6</td>\n",
       "      <td>2022-02-18</td>\n",
       "      <td>2022-12-19</td>\n",
       "      <td>86.44</td>\n",
       "    </tr>\n",
       "    <tr>\n",
       "      <th>7</th>\n",
       "      <td>CFI2c7</td>\n",
       "      <td>2022-02-18</td>\n",
       "      <td>2023-03-27</td>\n",
       "      <td>86.92</td>\n",
       "    </tr>\n",
       "    <tr>\n",
       "      <th>8</th>\n",
       "      <td>CFI2c8</td>\n",
       "      <td>2022-02-18</td>\n",
       "      <td>2023-06-26</td>\n",
       "      <td>87.27</td>\n",
       "    </tr>\n",
       "    <tr>\n",
       "      <th>9</th>\n",
       "      <td>CFI2c9</td>\n",
       "      <td>2022-02-18</td>\n",
       "      <td>2023-09-25</td>\n",
       "      <td>87.62</td>\n",
       "    </tr>\n",
       "    <tr>\n",
       "      <th>10</th>\n",
       "      <td>CFI2c10</td>\n",
       "      <td>2022-02-18</td>\n",
       "      <td>2023-12-18</td>\n",
       "      <td>87.97</td>\n",
       "    </tr>\n",
       "    <tr>\n",
       "      <th>11</th>\n",
       "      <td>CFI2c11</td>\n",
       "      <td>2022-02-18</td>\n",
       "      <td>2024-12-16</td>\n",
       "      <td>90.21</td>\n",
       "    </tr>\n",
       "    <tr>\n",
       "      <th>12</th>\n",
       "      <td>CFI2c12</td>\n",
       "      <td>2022-02-18</td>\n",
       "      <td>2025-12-15</td>\n",
       "      <td>92.95</td>\n",
       "    </tr>\n",
       "    <tr>\n",
       "      <th>13</th>\n",
       "      <td>CFI2c13</td>\n",
       "      <td>2022-02-18</td>\n",
       "      <td>2026-12-14</td>\n",
       "      <td>96.00</td>\n",
       "    </tr>\n",
       "    <tr>\n",
       "      <th>14</th>\n",
       "      <td>CFI2c14</td>\n",
       "      <td>2022-02-18</td>\n",
       "      <td>2027-12-20</td>\n",
       "      <td>99.05</td>\n",
       "    </tr>\n",
       "    <tr>\n",
       "      <th>15</th>\n",
       "      <td>CFI2c15</td>\n",
       "      <td>2022-02-18</td>\n",
       "      <td>2028-12-18</td>\n",
       "      <td>102.10</td>\n",
       "    </tr>\n",
       "  </tbody>\n",
       "</table>\n",
       "</div>"
      ],
      "text/plain": [
       "   Instrument Trade date Contract expiry  Close prices\n",
       "0     ECEFDc1 2022-02-18      2022-02-18         85.94\n",
       "1      CFI2c1 2022-02-18      2022-02-28         85.96\n",
       "2      CFI2c2 2022-02-18      2022-03-28         85.98\n",
       "3      CFI2c3 2022-02-18      2022-04-25         86.01\n",
       "4      CFI2c4 2022-02-18      2022-06-27         86.11\n",
       "5      CFI2c5 2022-02-18      2022-09-26         86.27\n",
       "6      CFI2c6 2022-02-18      2022-12-19         86.44\n",
       "7      CFI2c7 2022-02-18      2023-03-27         86.92\n",
       "8      CFI2c8 2022-02-18      2023-06-26         87.27\n",
       "9      CFI2c9 2022-02-18      2023-09-25         87.62\n",
       "10    CFI2c10 2022-02-18      2023-12-18         87.97\n",
       "11    CFI2c11 2022-02-18      2024-12-16         90.21\n",
       "12    CFI2c12 2022-02-18      2025-12-15         92.95\n",
       "13    CFI2c13 2022-02-18      2026-12-14         96.00\n",
       "14    CFI2c14 2022-02-18      2027-12-20         99.05\n",
       "15    CFI2c15 2022-02-18      2028-12-18        102.10"
      ]
     },
     "execution_count": 5,
     "metadata": {},
     "output_type": "execute_result"
    }
   ],
   "source": [
    "EUA"
   ]
  },
  {
   "cell_type": "code",
   "execution_count": 6,
   "metadata": {},
   "outputs": [
    {
     "name": "stderr",
     "output_type": "stream",
     "text": [
      "C:\\Users\\chris\\anaconda3\\lib\\site-packages\\scipy\\optimize\\_numdiff.py:497: RuntimeWarning:\n",
      "\n",
      "invalid value encountered in subtract\n",
      "\n"
     ]
    }
   ],
   "source": [
    "results = calibrate(EUA)                                                  # Calibrate the model \n",
    "                                                                          # Extract results\n",
    "Schwartz_smith_params = pd.DataFrame( results.x, schwartz_smith, columns = ['NLS Estimates'])\n",
    "Schwartz_smith_params"
   ]
  },
  {
   "cell_type": "code",
   "execution_count": 17,
   "metadata": {},
   "outputs": [
    {
     "data": {
      "text/plain": [
       "NLS Estimates    85.93\n",
       "dtype: float64"
      ]
     },
     "execution_count": 17,
     "metadata": {},
     "output_type": "execute_result"
    }
   ],
   "source": [
    "# Evaluation of spot prices\n",
    "spot = round(np.exp(Schwartz_smith_params.iloc[0]+Schwartz_smith_params.iloc[1]), 2)\n",
    "spot"
   ]
  },
  {
   "cell_type": "code",
   "execution_count": 7,
   "metadata": {},
   "outputs": [],
   "source": [
    "# ALl results of the function\n",
    "#results.lowest_optimization_result"
   ]
  },
  {
   "cell_type": "code",
   "execution_count": 11,
   "metadata": {},
   "outputs": [
    {
     "data": {
      "image/png": "[encoded data removed]",
      "text/plain": [
       "<Figure size 1080x720 with 2 Axes>"
      ]
     },
     "metadata": {
      "needs_background": "light"
     },
     "output_type": "display_data"
    }
   ],
   "source": [
    "# Comparison between market prices and Schwartz and Smith model \n",
    "trade_date = EUA['Trade date']\n",
    "maturity = EUA['Contract expiry']\n",
    "forwards = EUA['Close prices']\n",
    "\n",
    "maturities = calc_maturities(maturity, trade_date)\n",
    "\n",
    "fitted, SSE = calc_schwartz(maturities, forwards, results.x)\n",
    "fitted = round(fitted, 2)\n",
    "Errors = forwards - fitted\n",
    "\n",
    "# New dataframe with all inputs\n",
    "summary = pd.concat([maturities, forwards, fitted, Errors], axis = 1)\n",
    "summary.columns = ['maturities', 'forwards', 'fitted', 'Errors']\n",
    "summary.set_index('maturities', inplace = True)\n",
    "\n",
    "# Plot\n",
    "fig, ax = plt.subplots(2, figsize = (15, 10))\n",
    "\n",
    "ax[0].plot(summary.forwards, 'D-');\n",
    "ax[0].plot(summary.fitted, 'P-');\n",
    "ax[0].set_xlabel(\"Time to maturity\")\n",
    "ax[0].set_ylabel(\"Futures prices\")\n",
    "\n",
    "plt.bar(summary.index, summary.Errors, 0.075);\n",
    "ax[1].set_ylim(-0.15, 0.15)\n",
    "plt.axhline(y = 0, color = 'black')\n",
    "\n",
    "ax[0].legend(['Market', 'Fitted'])\n",
    "\n",
    "ax[0].set_title('Market and fitted term structure of futures prices')\n",
    "ax[1].set_title('Errors (in $)')\n",
    "fig.suptitle('Comparison between the calibrated Schwartz and Smith curve and the Refinitiv market curve', \n",
    "             fontweight = 'bold', size = 14, y = 0);"
   ]
  },
  {
   "cell_type": "code",
   "execution_count": 37,
   "metadata": {},
   "outputs": [
    {
     "ename": "NameError",
     "evalue": "name 'datetime' is not defined",
     "output_type": "error",
     "traceback": [
      "\u001b[1;31m---------------------------------------------------------------------------\u001b[0m",
      "\u001b[1;31mNameError\u001b[0m                                 Traceback (most recent call last)",
      "\u001b[1;32m<ipython-input-37-1783d4cb8333>\u001b[0m in \u001b[0;36m<module>\u001b[1;34m\u001b[0m\n\u001b[0;32m      2\u001b[0m \u001b[0mSettlement_date\u001b[0m\u001b[1;33m,\u001b[0m \u001b[0merr\u001b[0m \u001b[1;33m=\u001b[0m \u001b[0mek\u001b[0m\u001b[1;33m.\u001b[0m\u001b[0mget_data\u001b[0m\u001b[1;33m(\u001b[0m\u001b[1;33m[\u001b[0m\u001b[1;34m'CFI2Z2'\u001b[0m\u001b[1;33m]\u001b[0m\u001b[1;33m,\u001b[0m \u001b[1;33m[\u001b[0m\u001b[1;34m'EXPIR_DATE'\u001b[0m\u001b[1;33m]\u001b[0m\u001b[1;33m)\u001b[0m\u001b[1;33m\u001b[0m\u001b[1;33m\u001b[0m\u001b[0m\n\u001b[0;32m      3\u001b[0m \u001b[0mFwd_maturity\u001b[0m \u001b[1;33m=\u001b[0m \u001b[0mSettlement_date\u001b[0m\u001b[1;33m[\u001b[0m\u001b[1;34m'EXPIR_DATE'\u001b[0m\u001b[1;33m]\u001b[0m\u001b[1;33m\u001b[0m\u001b[1;33m\u001b[0m\u001b[0m\n\u001b[1;32m----> 4\u001b[1;33m \u001b[0mdatetime\u001b[0m\u001b[1;33m.\u001b[0m\u001b[0mstrptime\u001b[0m\u001b[1;33m(\u001b[0m\u001b[0mFwd_maturity\u001b[0m\u001b[1;33m.\u001b[0m\u001b[0miloc\u001b[0m\u001b[1;33m[\u001b[0m\u001b[1;36m0\u001b[0m\u001b[1;33m]\u001b[0m\u001b[1;33m,\u001b[0m \u001b[1;34m'%Y-%m-%d'\u001b[0m\u001b[1;33m)\u001b[0m\u001b[1;33m\u001b[0m\u001b[1;33m\u001b[0m\u001b[0m\n\u001b[0m",
      "\u001b[1;31mNameError\u001b[0m: name 'datetime' is not defined"
     ]
    }
   ],
   "source": [
    "# Discount factors\n",
    "from datetime import datetime\n",
    "\n",
    "Settlement_date, err = ek.get_data(['CFI2Z2'], ['EXPIR_DATE'])             # Settlement date defined as DEC2022\n",
    "Fwd_maturity = Settlement_date['EXPIR_DATE']\n",
    "Fwd_maturity = datetime.strptime(Fwd_maturity.iloc[0], '%Y-%m-%d')"
   ]
  },
  {
   "cell_type": "code",
   "execution_count": null,
   "metadata": {},
   "outputs": [],
   "source": [
    "import datetime\n",
    "\n",
    "# Check if today is a business day, otherwise return the last business day\n",
    "def is_business_day(date):\n",
    "    if bool(len(pd.bdate_range(date, date))):\n",
    "        return date\n",
    "    else:\n",
    "        offset = max(1, (date.weekday() + 6) % 7 - 3)\n",
    "        date = date - datetime.timedelta(offset) \n",
    "    return date\n",
    "\n",
    "today = datetime.datetime.today()\n",
    "today = is_business_day(today)"
   ]
  }
 ],
 "metadata": {
  "kernelspec": {
   "display_name": "Python 3",
   "language": "python",
   "name": "python3"
  },
  "language_info": {
   "codemirror_mode": {
    "name": "ipython",
    "version": 3
   },
   "file_extension": ".py",
   "mimetype": "text/x-python",
   "name": "python",
   "nbconvert_exporter": "python",
   "pygments_lexer": "ipython3",
   "version": "3.8.5"
  }
 },
 "nbformat": 4,
 "nbformat_minor": 4
}
